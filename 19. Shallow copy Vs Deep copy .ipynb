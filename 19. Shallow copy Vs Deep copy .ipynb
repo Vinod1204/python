{
 "cells": [
  {
   "cell_type": "code",
   "execution_count": 1,
   "id": "58d306cb",
   "metadata": {},
   "outputs": [],
   "source": [
    "lst1=[1,2,3]\n",
    "lst2=lst1"
   ]
  },
  {
   "cell_type": "code",
   "execution_count": 2,
   "id": "9f986710",
   "metadata": {},
   "outputs": [
    {
     "data": {
      "text/plain": [
       "([1, 2, 3], [1, 2, 3])"
      ]
     },
     "execution_count": 2,
     "metadata": {},
     "output_type": "execute_result"
    }
   ],
   "source": [
    "lst1,lst2"
   ]
  },
  {
   "cell_type": "code",
   "execution_count": 3,
   "id": "da0feae8",
   "metadata": {},
   "outputs": [],
   "source": [
    "lst2[1]=100"
   ]
  },
  {
   "cell_type": "code",
   "execution_count": 4,
   "id": "355849df",
   "metadata": {},
   "outputs": [
    {
     "data": {
      "text/plain": [
       "[1, 100, 3]"
      ]
     },
     "execution_count": 4,
     "metadata": {},
     "output_type": "execute_result"
    }
   ],
   "source": [
    "lst2"
   ]
  },
  {
   "cell_type": "code",
   "execution_count": 5,
   "id": "0f2d83d1",
   "metadata": {},
   "outputs": [
    {
     "data": {
      "text/plain": [
       "[1, 100, 3]"
      ]
     },
     "execution_count": 5,
     "metadata": {},
     "output_type": "execute_result"
    }
   ],
   "source": [
    "lst1            #memory is same for lst1 & lst2"
   ]
  },
  {
   "cell_type": "code",
   "execution_count": 6,
   "id": "f83ed818",
   "metadata": {},
   "outputs": [],
   "source": [
    "#shallow copy\n",
    "lst1=[1,2,3,4]\n",
    "lst2=lst1.copy()"
   ]
  },
  {
   "cell_type": "code",
   "execution_count": 7,
   "id": "76c96a57",
   "metadata": {},
   "outputs": [],
   "source": [
    "lst2[1]=100"
   ]
  },
  {
   "cell_type": "code",
   "execution_count": 8,
   "id": "84ebb1b1",
   "metadata": {},
   "outputs": [
    {
     "data": {
      "text/plain": [
       "([1, 100, 3, 4], [1, 2, 3, 4])"
      ]
     },
     "execution_count": 8,
     "metadata": {},
     "output_type": "execute_result"
    }
   ],
   "source": [
    "lst2,lst1"
   ]
  },
  {
   "cell_type": "code",
   "execution_count": 9,
   "id": "9717decc",
   "metadata": {},
   "outputs": [],
   "source": [
    "#but shallow copy in nested list\n",
    "lst1=[[1, 100, 3, 4], [1, 2, 3, 4]]\n",
    "lst2=lst1.copy()"
   ]
  },
  {
   "cell_type": "code",
   "execution_count": 10,
   "id": "ae0764f0",
   "metadata": {},
   "outputs": [],
   "source": [
    "lst1[1][0]=1000"
   ]
  },
  {
   "cell_type": "code",
   "execution_count": 11,
   "id": "65d6f4fc",
   "metadata": {},
   "outputs": [
    {
     "data": {
      "text/plain": [
       "[[1, 100, 3, 4], [1000, 2, 3, 4]]"
      ]
     },
     "execution_count": 11,
     "metadata": {},
     "output_type": "execute_result"
    }
   ],
   "source": [
    "lst1"
   ]
  },
  {
   "cell_type": "code",
   "execution_count": 12,
   "id": "536c047c",
   "metadata": {},
   "outputs": [
    {
     "data": {
      "text/plain": [
       "[[1, 100, 3, 4], [1000, 2, 3, 4]]"
      ]
     },
     "execution_count": 12,
     "metadata": {},
     "output_type": "execute_result"
    }
   ],
   "source": [
    "lst2         #object inside item get change in shallow copy but not in item in the list"
   ]
  },
  {
   "cell_type": "code",
   "execution_count": 13,
   "id": "32d73d2b",
   "metadata": {},
   "outputs": [],
   "source": [
    "lst1.append([6,7,8])"
   ]
  },
  {
   "cell_type": "code",
   "execution_count": 14,
   "id": "8ac1e822",
   "metadata": {},
   "outputs": [
    {
     "data": {
      "text/plain": [
       "[[1, 100, 3, 4], [1000, 2, 3, 4], [6, 7, 8]]"
      ]
     },
     "execution_count": 14,
     "metadata": {},
     "output_type": "execute_result"
    }
   ],
   "source": [
    "lst1"
   ]
  },
  {
   "cell_type": "code",
   "execution_count": 15,
   "id": "8d7fa43b",
   "metadata": {},
   "outputs": [
    {
     "data": {
      "text/plain": [
       "[[1, 100, 3, 4], [1000, 2, 3, 4]]"
      ]
     },
     "execution_count": 15,
     "metadata": {},
     "output_type": "execute_result"
    }
   ],
   "source": [
    "lst2 "
   ]
  },
  {
   "cell_type": "code",
   "execution_count": 16,
   "id": "2bc2a529",
   "metadata": {},
   "outputs": [],
   "source": [
    "#Deep copy\n",
    "import copy\n",
    "lst1=[1,2,3,4]\n",
    "lst2=copy.deepcopy(lst1)"
   ]
  },
  {
   "cell_type": "code",
   "execution_count": 17,
   "id": "cff31d4a",
   "metadata": {},
   "outputs": [
    {
     "data": {
      "text/plain": [
       "[1, 100, 3, 4]"
      ]
     },
     "execution_count": 17,
     "metadata": {},
     "output_type": "execute_result"
    }
   ],
   "source": [
    "lst2[1]=100\n",
    "lst2"
   ]
  },
  {
   "cell_type": "code",
   "execution_count": 18,
   "id": "c7bda58c",
   "metadata": {},
   "outputs": [
    {
     "data": {
      "text/plain": [
       "[1, 2, 3, 4]"
      ]
     },
     "execution_count": 18,
     "metadata": {},
     "output_type": "execute_result"
    }
   ],
   "source": [
    "lst1"
   ]
  },
  {
   "cell_type": "code",
   "execution_count": 19,
   "id": "3d2a53bf",
   "metadata": {},
   "outputs": [],
   "source": [
    "#In normal list shallow copy == deep copy\n",
    "#But in nested list shallow copy != deep copy"
   ]
  },
  {
   "cell_type": "code",
   "execution_count": 20,
   "id": "3d5bed40",
   "metadata": {},
   "outputs": [],
   "source": [
    "lst1=[[1,2,3,4],[5,6,7],[8,9,6]]\n",
    "lst2=copy.deepcopy(lst1)"
   ]
  },
  {
   "cell_type": "code",
   "execution_count": 21,
   "id": "ccdb1b0a",
   "metadata": {},
   "outputs": [
    {
     "data": {
      "text/plain": [
       "[[1, 2, 3, 4], [100, 6, 7], [8, 9, 6]]"
      ]
     },
     "execution_count": 21,
     "metadata": {},
     "output_type": "execute_result"
    }
   ],
   "source": [
    "lst2[1][0]=100\n",
    "lst2"
   ]
  },
  {
   "cell_type": "code",
   "execution_count": 22,
   "id": "6a89d74b",
   "metadata": {},
   "outputs": [
    {
     "data": {
      "text/plain": [
       "[[1, 2, 3, 4], [5, 6, 7], [8, 9, 6]]"
      ]
     },
     "execution_count": 22,
     "metadata": {},
     "output_type": "execute_result"
    }
   ],
   "source": [
    "lst1"
   ]
  }
 ],
 "metadata": {
  "kernelspec": {
   "display_name": "Python 3",
   "language": "python",
   "name": "python3"
  },
  "language_info": {
   "codemirror_mode": {
    "name": "ipython",
    "version": 3
   },
   "file_extension": ".py",
   "mimetype": "text/x-python",
   "name": "python",
   "nbconvert_exporter": "python",
   "pygments_lexer": "ipython3",
   "version": "3.8.8"
  }
 },
 "nbformat": 4,
 "nbformat_minor": 5
}
