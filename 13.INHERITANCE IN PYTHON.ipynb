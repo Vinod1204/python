{
 "cells": [
  {
   "cell_type": "code",
   "execution_count": 8,
   "id": "efdb0df1",
   "metadata": {},
   "outputs": [],
   "source": [
    "class car():\n",
    "    def __init__(self,windows,doors,enginetype):\n",
    "        self.window=windows\n",
    "        self.door=doors\n",
    "        self.enginetype=enginetype\n",
    "    def drive(self):\n",
    "        print(\"The person drives the car\")"
   ]
  },
  {
   "cell_type": "code",
   "execution_count": 9,
   "id": "3e4e9f6b",
   "metadata": {},
   "outputs": [
    {
     "data": {
      "text/plain": [
       "4"
      ]
     },
     "execution_count": 9,
     "metadata": {},
     "output_type": "execute_result"
    }
   ],
   "source": [
    "car1=car(4,4,\"petrol\")\n",
    "car1.door"
   ]
  },
  {
   "cell_type": "code",
   "execution_count": 10,
   "id": "71be668c",
   "metadata": {},
   "outputs": [],
   "source": [
    "class audi(car):\n",
    "    def __init__(self,windows,doors,enginetype,enableai):\n",
    "        super().__init__(windows,doors,enginetype)\n",
    "        self.enableai=enableai\n",
    "    def selfdriving(self):\n",
    "        print(\"Audi supports self driving\")"
   ]
  },
  {
   "cell_type": "code",
   "execution_count": 11,
   "id": "0196fac0",
   "metadata": {},
   "outputs": [],
   "source": [
    "audiq7=audi(5,5,\"Diesel\",True)"
   ]
  },
  {
   "cell_type": "code",
   "execution_count": 12,
   "id": "a7f9b3d4",
   "metadata": {},
   "outputs": [
    {
     "data": {
      "text/plain": [
       "5"
      ]
     },
     "execution_count": 12,
     "metadata": {},
     "output_type": "execute_result"
    }
   ],
   "source": [
    "audiq7.window"
   ]
  },
  {
   "cell_type": "code",
   "execution_count": 13,
   "id": "f8f91e8d",
   "metadata": {},
   "outputs": [
    {
     "name": "stdout",
     "output_type": "stream",
     "text": [
      "Audi supports self driving\n"
     ]
    }
   ],
   "source": [
    "audiq7.selfdriving()"
   ]
  }
 ],
 "metadata": {
  "kernelspec": {
   "display_name": "Python 3",
   "language": "python",
   "name": "python3"
  },
  "language_info": {
   "codemirror_mode": {
    "name": "ipython",
    "version": 3
   },
   "file_extension": ".py",
   "mimetype": "text/x-python",
   "name": "python",
   "nbconvert_exporter": "python",
   "pygments_lexer": "ipython3",
   "version": "3.8.8"
  }
 },
 "nbformat": 4,
 "nbformat_minor": 5
}
