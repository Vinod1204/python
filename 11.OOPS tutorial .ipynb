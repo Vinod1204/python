{
 "cells": [
  {
   "cell_type": "code",
   "execution_count": 3,
   "id": "ff5d3a5c",
   "metadata": {},
   "outputs": [],
   "source": [
    "#normal method"
   ]
  },
  {
   "cell_type": "code",
   "execution_count": 4,
   "id": "a3611d23",
   "metadata": {},
   "outputs": [],
   "source": [
    "class car:\n",
    "    pass"
   ]
  },
  {
   "cell_type": "code",
   "execution_count": 5,
   "id": "26cd05b8",
   "metadata": {},
   "outputs": [],
   "source": [
    "car1=car()"
   ]
  },
  {
   "cell_type": "code",
   "execution_count": 6,
   "id": "8794a7d9",
   "metadata": {},
   "outputs": [],
   "source": [
    "car1.windows=4\n",
    "car1.doors=2\n",
    "car1.enginetype=\"petrol\""
   ]
  },
  {
   "cell_type": "code",
   "execution_count": 7,
   "id": "9d43c9b5",
   "metadata": {},
   "outputs": [
    {
     "data": {
      "text/plain": [
       "<__main__.car at 0x1b931c2f790>"
      ]
     },
     "execution_count": 7,
     "metadata": {},
     "output_type": "execute_result"
    }
   ],
   "source": [
    "car1"
   ]
  },
  {
   "cell_type": "code",
   "execution_count": 8,
   "id": "6be361c1",
   "metadata": {},
   "outputs": [
    {
     "data": {
      "text/plain": [
       "2"
      ]
     },
     "execution_count": 8,
     "metadata": {},
     "output_type": "execute_result"
    }
   ],
   "source": [
    "car1.doors"
   ]
  },
  {
   "cell_type": "code",
   "execution_count": 9,
   "id": "e427179a",
   "metadata": {},
   "outputs": [],
   "source": [
    "car2=car"
   ]
  },
  {
   "cell_type": "code",
   "execution_count": 10,
   "id": "5c9034b4",
   "metadata": {},
   "outputs": [],
   "source": [
    "car2.windows=5\n",
    "car2.doors=4\n",
    "car2.enginetype=\"Diesel\""
   ]
  },
  {
   "cell_type": "code",
   "execution_count": 11,
   "id": "549fd98f",
   "metadata": {},
   "outputs": [
    {
     "data": {
      "text/plain": [
       "'Diesel'"
      ]
     },
     "execution_count": 11,
     "metadata": {},
     "output_type": "execute_result"
    }
   ],
   "source": [
    "car2.enginetype"
   ]
  },
  {
   "cell_type": "code",
   "execution_count": 12,
   "id": "c67dd219",
   "metadata": {},
   "outputs": [],
   "source": [
    "#Advanced method"
   ]
  },
  {
   "cell_type": "code",
   "execution_count": 13,
   "id": "c6e545f2",
   "metadata": {},
   "outputs": [],
   "source": [
    "class car:\n",
    "    def __init__(self,window,door,enginetype):\n",
    "        self.window=window\n",
    "        self.door=door\n",
    "        self.enginetype=enginetype\n",
    "    def self_driving(self):\n",
    "        return \"This is a {} car\".format(self.enginetype)"
   ]
  },
  {
   "cell_type": "code",
   "execution_count": 14,
   "id": "3675907a",
   "metadata": {},
   "outputs": [],
   "source": [
    "car1=car(4,2,\"petrol\")"
   ]
  },
  {
   "cell_type": "code",
   "execution_count": 15,
   "id": "807360b9",
   "metadata": {},
   "outputs": [],
   "source": [
    "car1=car(4,2,\"petrol\")"
   ]
  },
  {
   "cell_type": "code",
   "execution_count": 16,
   "id": "e587ef04",
   "metadata": {},
   "outputs": [
    {
     "data": {
      "text/plain": [
       "'petrol'"
      ]
     },
     "execution_count": 16,
     "metadata": {},
     "output_type": "execute_result"
    }
   ],
   "source": [
    "car1.enginetype"
   ]
  },
  {
   "cell_type": "code",
   "execution_count": 17,
   "id": "b306cbf4",
   "metadata": {},
   "outputs": [
    {
     "data": {
      "text/plain": [
       "'This is a petrol car'"
      ]
     },
     "execution_count": 17,
     "metadata": {},
     "output_type": "execute_result"
    }
   ],
   "source": [
    "car1.self_driving()"
   ]
  }
 ],
 "metadata": {
  "kernelspec": {
   "display_name": "Python 3",
   "language": "python",
   "name": "python3"
  },
  "language_info": {
   "codemirror_mode": {
    "name": "ipython",
    "version": 3
   },
   "file_extension": ".py",
   "mimetype": "text/x-python",
   "name": "python",
   "nbconvert_exporter": "python",
   "pygments_lexer": "ipython3",
   "version": "3.8.8"
  }
 },
 "nbformat": 4,
 "nbformat_minor": 5
}
