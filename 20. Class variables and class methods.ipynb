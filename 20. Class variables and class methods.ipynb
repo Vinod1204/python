{
 "cells": [
  {
   "cell_type": "code",
   "execution_count": 76,
   "id": "d95cf2bd",
   "metadata": {},
   "outputs": [],
   "source": [
    "class Car:\n",
    "    base_price=100000\n",
    "    def __init__(self,windows,doors,power):\n",
    "        self.window=windows\n",
    "        self.door=doors\n",
    "        self.power=power\n",
    "    def what_base_price(self):\n",
    "        print(\"The base price is {}\".format(self.base_price))"
   ]
  },
  {
   "cell_type": "code",
   "execution_count": 77,
   "id": "91cd7346",
   "metadata": {},
   "outputs": [],
   "source": [
    "car1=Car(3,4,2000)"
   ]
  },
  {
   "cell_type": "code",
   "execution_count": 78,
   "id": "5fba3553",
   "metadata": {},
   "outputs": [
    {
     "data": {
      "text/plain": [
       "100000"
      ]
     },
     "execution_count": 78,
     "metadata": {},
     "output_type": "execute_result"
    }
   ],
   "source": [
    "car1.base_price"
   ]
  },
  {
   "cell_type": "code",
   "execution_count": 79,
   "id": "481cdc4f",
   "metadata": {},
   "outputs": [
    {
     "data": {
      "text/plain": [
       "3"
      ]
     },
     "execution_count": 79,
     "metadata": {},
     "output_type": "execute_result"
    }
   ],
   "source": [
    "car1.window"
   ]
  },
  {
   "cell_type": "code",
   "execution_count": 80,
   "id": "638f940f",
   "metadata": {},
   "outputs": [],
   "source": [
    "class Car:\n",
    "    base_price=100000\n",
    "    def __init__(self,windows,doors,power):\n",
    "        self.window=windows\n",
    "        self.door=doors\n",
    "        self.power=power\n",
    "    def what_base_price(self):\n",
    "        print(\"The base price is {}\".format(self.base_price))\n",
    "    @classmethod\n",
    "    def revise_base_price(cls,inflation):\n",
    "        cls.base_price=cls.base_price + cls.base_price*inflation"
   ]
  },
  {
   "cell_type": "code",
   "execution_count": 81,
   "id": "21eef2fb",
   "metadata": {},
   "outputs": [],
   "source": [
    "car2=Car(4,5,3000)"
   ]
  },
  {
   "cell_type": "code",
   "execution_count": 82,
   "id": "d5aef649",
   "metadata": {},
   "outputs": [
    {
     "data": {
      "text/plain": [
       "3000"
      ]
     },
     "execution_count": 82,
     "metadata": {},
     "output_type": "execute_result"
    }
   ],
   "source": [
    "car2.power"
   ]
  },
  {
   "cell_type": "code",
   "execution_count": 83,
   "id": "f03452e0",
   "metadata": {},
   "outputs": [
    {
     "data": {
      "text/plain": [
       "100000"
      ]
     },
     "execution_count": 83,
     "metadata": {},
     "output_type": "execute_result"
    }
   ],
   "source": [
    "car2.base_price"
   ]
  },
  {
   "cell_type": "code",
   "execution_count": 84,
   "id": "61552588",
   "metadata": {},
   "outputs": [],
   "source": [
    "car2.revise_base_price(0.10)"
   ]
  },
  {
   "cell_type": "code",
   "execution_count": 85,
   "id": "eec1eb8f",
   "metadata": {},
   "outputs": [
    {
     "data": {
      "text/plain": [
       "110000.0"
      ]
     },
     "execution_count": 85,
     "metadata": {},
     "output_type": "execute_result"
    }
   ],
   "source": [
    "car2.base_price"
   ]
  },
  {
   "cell_type": "code",
   "execution_count": 86,
   "id": "d651aa5b",
   "metadata": {},
   "outputs": [],
   "source": [
    "car2.revise_base_price(0.10)"
   ]
  },
  {
   "cell_type": "code",
   "execution_count": 87,
   "id": "534ca2de",
   "metadata": {},
   "outputs": [
    {
     "data": {
      "text/plain": [
       "121000.0"
      ]
     },
     "execution_count": 87,
     "metadata": {},
     "output_type": "execute_result"
    }
   ],
   "source": [
    "car2.base_price"
   ]
  },
  {
   "cell_type": "code",
   "execution_count": 89,
   "id": "e778617c",
   "metadata": {},
   "outputs": [],
   "source": [
    "car3=Car(4,5,5000)"
   ]
  },
  {
   "cell_type": "code",
   "execution_count": 90,
   "id": "4197488e",
   "metadata": {},
   "outputs": [
    {
     "data": {
      "text/plain": [
       "121000.0"
      ]
     },
     "execution_count": 90,
     "metadata": {},
     "output_type": "execute_result"
    }
   ],
   "source": [
    "car3.base_price"
   ]
  }
 ],
 "metadata": {
  "kernelspec": {
   "display_name": "Python 3",
   "language": "python",
   "name": "python3"
  },
  "language_info": {
   "codemirror_mode": {
    "name": "ipython",
    "version": 3
   },
   "file_extension": ".py",
   "mimetype": "text/x-python",
   "name": "python",
   "nbconvert_exporter": "python",
   "pygments_lexer": "ipython3",
   "version": "3.8.8"
  }
 },
 "nbformat": 4,
 "nbformat_minor": 5
}
