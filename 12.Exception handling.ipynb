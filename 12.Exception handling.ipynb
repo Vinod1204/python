{
 "cells": [
  {
   "cell_type": "code",
   "execution_count": 2,
   "id": "c9157c5a",
   "metadata": {},
   "outputs": [],
   "source": [
    "## Code block where expection can occur"
   ]
  },
  {
   "cell_type": "code",
   "execution_count": 6,
   "id": "531b693c",
   "metadata": {},
   "outputs": [
    {
     "name": "stdout",
     "output_type": "stream",
     "text": [
      "Enter the num1 :12\n",
      "Enter the num2 :0\n",
      "Enter the num greater than 0\n",
      "The execution is done by vinod\n"
     ]
    }
   ],
   "source": [
    "try:\n",
    "    a=int(input(\"Enter the num1 :\"))\n",
    "    b=int(input(\"Enter the num2 :\"))\n",
    "    c=a/b\n",
    "    d=a*b\n",
    "    e=a+b\n",
    "except NameError:\n",
    "    print(\"The user have not defined the variable\")\n",
    "except ZeroDivisionError:\n",
    "    print(\"Enter the num greater than 0\")\n",
    "except TypeError:\n",
    "    print(\"Try to make the datatype similar\")\n",
    "except Exception as ex:\n",
    "    print(ex)\n",
    "else:\n",
    "    print(c)\n",
    "    print(d)\n",
    "    print(e)\n",
    "finally:\n",
    "    print(\"The execution is done by vinod\")"
   ]
  },
  {
   "cell_type": "code",
   "execution_count": 7,
   "id": "3e883c99",
   "metadata": {},
   "outputs": [],
   "source": [
    "class Error(Exception):\n",
    "     pass\n",
    "class dobException(Error):\n",
    "     pass\n",
    "class customgeneric(Error):\n",
    "      pass\n"
   ]
  },
  {
   "cell_type": "code",
   "execution_count": 8,
   "id": "d6992128",
   "metadata": {},
   "outputs": [
    {
     "name": "stdout",
     "output_type": "stream",
     "text": [
      "Enter your year of birth:2000\n",
      "The age is not within the range you cannot apply for the exam\n"
     ]
    }
   ],
   "source": [
    "year=int(input(\"Enter your year of birth:\"))\n",
    "age=2021-year\n",
    "try:\n",
    "    if age<=30 & age>20:\n",
    "        print(\"The age is valid you can apply for Exam\")\n",
    "    else:\n",
    "        raise dobException\n",
    "except dobException:\n",
    "    print(\"The age is not within the range you cannot apply for the exam\")"
   ]
  }
 ],
 "metadata": {
  "kernelspec": {
   "display_name": "Python 3",
   "language": "python",
   "name": "python3"
  },
  "language_info": {
   "codemirror_mode": {
    "name": "ipython",
    "version": 3
   },
   "file_extension": ".py",
   "mimetype": "text/x-python",
   "name": "python",
   "nbconvert_exporter": "python",
   "pygments_lexer": "ipython3",
   "version": "3.8.8"
  }
 },
 "nbformat": 4,
 "nbformat_minor": 5
}
