{
 "cells": [
  {
   "cell_type": "code",
   "execution_count": 2,
   "id": "c7aa8150",
   "metadata": {},
   "outputs": [
    {
     "name": "stdout",
     "output_type": "stream",
     "text": [
      "Hello Everyone\n"
     ]
    }
   ],
   "source": [
    "print(\"Hello Everyone\")"
   ]
  },
  {
   "cell_type": "code",
   "execution_count": 3,
   "id": "149ca2dd",
   "metadata": {},
   "outputs": [],
   "source": [
    "def greeting(name):\n",
    "    return \"Hello {}! Welcome to the community\".format(name)"
   ]
  },
  {
   "cell_type": "code",
   "execution_count": 4,
   "id": "d55925b4",
   "metadata": {},
   "outputs": [
    {
     "data": {
      "text/plain": [
       "'Hello vinod! Welcome to the community'"
      ]
     },
     "execution_count": 4,
     "metadata": {},
     "output_type": "execute_result"
    }
   ],
   "source": [
    "greeting('vinod')"
   ]
  },
  {
   "cell_type": "code",
   "execution_count": 5,
   "id": "fdf94541",
   "metadata": {},
   "outputs": [],
   "source": [
    "def welcome(name,age):\n",
    "   return \"welcome {}! your age is {}\".format(name,age)"
   ]
  },
  {
   "cell_type": "code",
   "execution_count": 6,
   "id": "2d4487f5",
   "metadata": {},
   "outputs": [
    {
     "data": {
      "text/plain": [
       "'welcome vinod! your age is 20'"
      ]
     },
     "execution_count": 6,
     "metadata": {},
     "output_type": "execute_result"
    }
   ],
   "source": [
    "welcome('vinod',20)"
   ]
  },
  {
   "cell_type": "code",
   "execution_count": 7,
   "id": "4ae40228",
   "metadata": {},
   "outputs": [],
   "source": [
    "def welcome(name,age):\n",
    "   return \"welcome {n1}! your age is {n2}\".format(n1=name,n2=age)"
   ]
  },
  {
   "cell_type": "code",
   "execution_count": 8,
   "id": "988cd400",
   "metadata": {},
   "outputs": [
    {
     "data": {
      "text/plain": [
       "'welcome vinod! your age is 20'"
      ]
     },
     "execution_count": 8,
     "metadata": {},
     "output_type": "execute_result"
    }
   ],
   "source": [
    "welcome('vinod',20)"
   ]
  }
 ],
 "metadata": {
  "kernelspec": {
   "display_name": "Python 3",
   "language": "python",
   "name": "python3"
  },
  "language_info": {
   "codemirror_mode": {
    "name": "ipython",
    "version": 3
   },
   "file_extension": ".py",
   "mimetype": "text/x-python",
   "name": "python",
   "nbconvert_exporter": "python",
   "pygments_lexer": "ipython3",
   "version": "3.8.8"
  }
 },
 "nbformat": 4,
 "nbformat_minor": 5
}
