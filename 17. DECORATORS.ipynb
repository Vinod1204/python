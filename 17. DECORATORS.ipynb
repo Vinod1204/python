{
 "cells": [
  {
   "cell_type": "code",
   "execution_count": 23,
   "id": "7f4ad4ae",
   "metadata": {},
   "outputs": [],
   "source": [
    "##FUNCTION COPY\n",
    "##CLOSURES\n",
    "##DECORATORS\n",
    "def welcome():\n",
    "    print(\"welcome vinod\")"
   ]
  },
  {
   "cell_type": "code",
   "execution_count": 24,
   "id": "dec58410",
   "metadata": {},
   "outputs": [
    {
     "name": "stdout",
     "output_type": "stream",
     "text": [
      "welcome vinod\n"
     ]
    }
   ],
   "source": [
    "welcome()"
   ]
  },
  {
   "cell_type": "code",
   "execution_count": 25,
   "id": "13bf0d4c",
   "metadata": {},
   "outputs": [
    {
     "name": "stdout",
     "output_type": "stream",
     "text": [
      "welcome vinod\n"
     ]
    }
   ],
   "source": [
    "wel=welcome()"
   ]
  },
  {
   "cell_type": "code",
   "execution_count": 26,
   "id": "cd298c21",
   "metadata": {},
   "outputs": [],
   "source": [
    "wel"
   ]
  },
  {
   "cell_type": "code",
   "execution_count": 27,
   "id": "545ad1c8",
   "metadata": {},
   "outputs": [],
   "source": [
    "def welcome():\n",
    "    return \"welcome vinod\""
   ]
  },
  {
   "cell_type": "code",
   "execution_count": 28,
   "id": "b72e2ca7",
   "metadata": {},
   "outputs": [],
   "source": [
    "wel=welcome()"
   ]
  },
  {
   "cell_type": "code",
   "execution_count": 29,
   "id": "1efe59c3",
   "metadata": {},
   "outputs": [
    {
     "data": {
      "text/plain": [
       "'welcome vinod'"
      ]
     },
     "execution_count": 29,
     "metadata": {},
     "output_type": "execute_result"
    }
   ],
   "source": [
    "wel"
   ]
  },
  {
   "cell_type": "code",
   "execution_count": 30,
   "id": "edc4f084",
   "metadata": {},
   "outputs": [],
   "source": [
    "def welcome():\n",
    "    return \"welcome vinod\""
   ]
  },
  {
   "cell_type": "code",
   "execution_count": 31,
   "id": "baafe44e",
   "metadata": {},
   "outputs": [],
   "source": [
    "wel=welcome()\n",
    "del welcome"
   ]
  },
  {
   "cell_type": "code",
   "execution_count": 32,
   "id": "3bf58c72",
   "metadata": {},
   "outputs": [
    {
     "data": {
      "text/plain": [
       "'welcome vinod'"
      ]
     },
     "execution_count": 32,
     "metadata": {},
     "output_type": "execute_result"
    }
   ],
   "source": [
    "wel"
   ]
  },
  {
   "cell_type": "code",
   "execution_count": 33,
   "id": "d63c8a1c",
   "metadata": {},
   "outputs": [
    {
     "ename": "NameError",
     "evalue": "name 'welcome' is not defined",
     "output_type": "error",
     "traceback": [
      "\u001b[1;31m---------------------------------------------------------------------------\u001b[0m",
      "\u001b[1;31mNameError\u001b[0m                                 Traceback (most recent call last)",
      "\u001b[1;32m<ipython-input-33-a401d7101853>\u001b[0m in \u001b[0;36m<module>\u001b[1;34m\u001b[0m\n\u001b[1;32m----> 1\u001b[1;33m \u001b[0mwelcome\u001b[0m\u001b[1;33m(\u001b[0m\u001b[1;33m)\u001b[0m\u001b[1;33m\u001b[0m\u001b[1;33m\u001b[0m\u001b[0m\n\u001b[0m",
      "\u001b[1;31mNameError\u001b[0m: name 'welcome' is not defined"
     ]
    }
   ],
   "source": [
    "welcome()"
   ]
  },
  {
   "cell_type": "code",
   "execution_count": 34,
   "id": "4512aabb",
   "metadata": {},
   "outputs": [],
   "source": [
    "#Closures\n",
    "def main_welcome(msg):\n",
    "    def sub_welcome():\n",
    "        print(\"Welcome to my channel\")\n",
    "        print(msg)\n",
    "        print(\"Subscribe my channel\")\n",
    "    return sub_welcome()"
   ]
  },
  {
   "cell_type": "code",
   "execution_count": 35,
   "id": "4b74c495",
   "metadata": {},
   "outputs": [
    {
     "name": "stdout",
     "output_type": "stream",
     "text": [
      "Welcome to my channel\n",
      "Hello Everyone\n",
      "Subscribe my channel\n"
     ]
    }
   ],
   "source": [
    "main_welcome(\"Hello Everyone\")"
   ]
  },
  {
   "cell_type": "code",
   "execution_count": 36,
   "id": "03b2977e",
   "metadata": {},
   "outputs": [],
   "source": [
    "def main_welcome(func):\n",
    "    def sub_welcome():\n",
    "        print(\"Welcome to my channel\")\n",
    "        func(\"Hello Everyone\")\n",
    "        print(\"Subscribe my channel\")\n",
    "    return sub_welcome()"
   ]
  },
  {
   "cell_type": "code",
   "execution_count": 37,
   "id": "af0c9c27",
   "metadata": {},
   "outputs": [
    {
     "name": "stdout",
     "output_type": "stream",
     "text": [
      "Welcome to my channel\n",
      "Hello Everyone\n",
      "Subscribe my channel\n"
     ]
    }
   ],
   "source": [
    "main_welcome(print)"
   ]
  },
  {
   "cell_type": "code",
   "execution_count": 38,
   "id": "9b5b2363",
   "metadata": {},
   "outputs": [],
   "source": [
    "#Initial Decorators\n",
    "def main_welcome(func):\n",
    "    def sub_welcome():\n",
    "        print(\"Welcome to my channel\")\n",
    "        print(func([1,2,3,4,5]))\n",
    "        print(\"Subscribe my channel\")\n",
    "    return sub_welcome()"
   ]
  },
  {
   "cell_type": "code",
   "execution_count": 39,
   "id": "1219016e",
   "metadata": {},
   "outputs": [
    {
     "name": "stdout",
     "output_type": "stream",
     "text": [
      "Welcome to my channel\n",
      "5\n",
      "Subscribe my channel\n"
     ]
    }
   ],
   "source": [
    "main_welcome(len)"
   ]
  },
  {
   "cell_type": "code",
   "execution_count": 40,
   "id": "f4b4d351",
   "metadata": {},
   "outputs": [],
   "source": [
    "#Decorators\n",
    "def main_welcome(func):\n",
    "    def sub_welcome():\n",
    "        print(\"Welcome to my channel\")\n",
    "        func()\n",
    "        print(\"Subscribe my channel\")\n",
    "    return sub_welcome()"
   ]
  },
  {
   "cell_type": "code",
   "execution_count": 41,
   "id": "71a85509",
   "metadata": {},
   "outputs": [],
   "source": [
    "def channel_name():\n",
    "    print(\"This is our channel\")"
   ]
  },
  {
   "cell_type": "code",
   "execution_count": 42,
   "id": "63316178",
   "metadata": {},
   "outputs": [
    {
     "name": "stdout",
     "output_type": "stream",
     "text": [
      "Welcome to my channel\n",
      "This is our channel\n",
      "Subscribe my channel\n"
     ]
    }
   ],
   "source": [
    "main_welcome(channel_name)"
   ]
  },
  {
   "cell_type": "code",
   "execution_count": 43,
   "id": "bab2bc02",
   "metadata": {},
   "outputs": [
    {
     "name": "stdout",
     "output_type": "stream",
     "text": [
      "Welcome to my channel\n",
      "This is our Channel\n",
      "Subscribe my channel\n"
     ]
    }
   ],
   "source": [
    "#decorator-----(@main_welcome)\n",
    "@main_welcome\n",
    "def channel_namee():\n",
    "    print(\"This is our Channel\")"
   ]
  }
 ],
 "metadata": {
  "kernelspec": {
   "display_name": "Python 3",
   "language": "python",
   "name": "python3"
  },
  "language_info": {
   "codemirror_mode": {
    "name": "ipython",
    "version": 3
   },
   "file_extension": ".py",
   "mimetype": "text/x-python",
   "name": "python",
   "nbconvert_exporter": "python",
   "pygments_lexer": "ipython3",
   "version": "3.8.8"
  }
 },
 "nbformat": 4,
 "nbformat_minor": 5
}
