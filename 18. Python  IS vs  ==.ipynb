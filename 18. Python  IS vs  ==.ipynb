{
 "cells": [
  {
   "cell_type": "code",
   "execution_count": 1,
   "id": "e50feec0",
   "metadata": {},
   "outputs": [],
   "source": [
    "lst1=[\"vinod\",\"ajay\",\"anand\"]\n",
    "lst2=[\"vinod\",\"ajay\",\"anand\"]"
   ]
  },
  {
   "cell_type": "code",
   "execution_count": 2,
   "id": "d632518a",
   "metadata": {},
   "outputs": [
    {
     "data": {
      "text/plain": [
       "True"
      ]
     },
     "execution_count": 2,
     "metadata": {},
     "output_type": "execute_result"
    }
   ],
   "source": [
    "lst1==lst2 #it compares the values"
   ]
  },
  {
   "cell_type": "code",
   "execution_count": 3,
   "id": "717ba6f2",
   "metadata": {},
   "outputs": [
    {
     "data": {
      "text/plain": [
       "False"
      ]
     },
     "execution_count": 3,
     "metadata": {},
     "output_type": "execute_result"
    }
   ],
   "source": [
    "lst1 is lst2     #it compares the memory location"
   ]
  },
  {
   "cell_type": "code",
   "execution_count": 4,
   "id": "3c3adc10",
   "metadata": {},
   "outputs": [],
   "source": [
    "lst2=lst1"
   ]
  },
  {
   "cell_type": "code",
   "execution_count": 5,
   "id": "ce692c02",
   "metadata": {},
   "outputs": [
    {
     "data": {
      "text/plain": [
       "True"
      ]
     },
     "execution_count": 5,
     "metadata": {},
     "output_type": "execute_result"
    }
   ],
   "source": [
    "lst1 is lst2"
   ]
  },
  {
   "cell_type": "code",
   "execution_count": 6,
   "id": "ba813ea4",
   "metadata": {},
   "outputs": [],
   "source": [
    "lst2[1]=\"murugan\""
   ]
  },
  {
   "cell_type": "code",
   "execution_count": 7,
   "id": "c540f4d6",
   "metadata": {},
   "outputs": [
    {
     "data": {
      "text/plain": [
       "['vinod', 'murugan', 'anand']"
      ]
     },
     "execution_count": 7,
     "metadata": {},
     "output_type": "execute_result"
    }
   ],
   "source": [
    "lst2"
   ]
  },
  {
   "cell_type": "code",
   "execution_count": 8,
   "id": "df235ca2",
   "metadata": {},
   "outputs": [
    {
     "data": {
      "text/plain": [
       "['vinod', 'murugan', 'anand']"
      ]
     },
     "execution_count": 8,
     "metadata": {},
     "output_type": "execute_result"
    }
   ],
   "source": [
    "lst1"
   ]
  }
 ],
 "metadata": {
  "kernelspec": {
   "display_name": "Python 3",
   "language": "python",
   "name": "python3"
  },
  "language_info": {
   "codemirror_mode": {
    "name": "ipython",
    "version": 3
   },
   "file_extension": ".py",
   "mimetype": "text/x-python",
   "name": "python",
   "nbconvert_exporter": "python",
   "pygments_lexer": "ipython3",
   "version": "3.8.8"
  }
 },
 "nbformat": 4,
 "nbformat_minor": 5
}
