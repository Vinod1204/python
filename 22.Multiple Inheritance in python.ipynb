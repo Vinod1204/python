{
 "cells": [
  {
   "cell_type": "code",
   "execution_count": 1,
   "id": "1c76a1b0",
   "metadata": {},
   "outputs": [],
   "source": [
    "#Multiple Inheritance occur when we inherited freom two or more base class"
   ]
  },
  {
   "cell_type": "code",
   "execution_count": 32,
   "id": "86416c5e",
   "metadata": {},
   "outputs": [],
   "source": [
    "class A:\n",
    "    def method1(self):\n",
    "        print(\"A class method is called\")\n",
    "class B(A):\n",
    "    def method1(self):\n",
    "        print(\"B class method is called\")\n",
    "    def method2(self):\n",
    "        print(\"B class method2 is called\")\n",
    "class C(A):\n",
    "    def method1(self):\n",
    "        print(\"C class method is called\")\n",
    "class D(B,C):\n",
    "    def method1(self):\n",
    "        print(\"D class method is called\")\n",
    "        C.method1(self)\n",
    "        B.method1(self)\n",
    "        A.method1(self)"
   ]
  },
  {
   "cell_type": "code",
   "execution_count": 33,
   "id": "ea5c36a8",
   "metadata": {},
   "outputs": [
    {
     "name": "stdout",
     "output_type": "stream",
     "text": [
      "B class method is called\n"
     ]
    }
   ],
   "source": [
    "d=B()\n",
    "d.method1()"
   ]
  },
  {
   "cell_type": "code",
   "execution_count": 34,
   "id": "4835882b",
   "metadata": {},
   "outputs": [
    {
     "name": "stdout",
     "output_type": "stream",
     "text": [
      "B class method2 is called\n"
     ]
    }
   ],
   "source": [
    "d.method2()"
   ]
  },
  {
   "cell_type": "code",
   "execution_count": 37,
   "id": "24326dca",
   "metadata": {},
   "outputs": [
    {
     "name": "stdout",
     "output_type": "stream",
     "text": [
      "B class method is called\n"
     ]
    }
   ],
   "source": [
    "B.method1(d)"
   ]
  },
  {
   "cell_type": "code",
   "execution_count": 35,
   "id": "2e79b134",
   "metadata": {},
   "outputs": [
    {
     "name": "stdout",
     "output_type": "stream",
     "text": [
      "B class method2 is called\n"
     ]
    }
   ],
   "source": [
    "B.method2(d)"
   ]
  },
  {
   "cell_type": "code",
   "execution_count": 36,
   "id": "f4e67c3a",
   "metadata": {},
   "outputs": [
    {
     "name": "stdout",
     "output_type": "stream",
     "text": [
      "A class method is called\n"
     ]
    }
   ],
   "source": [
    "A.method1(d)"
   ]
  },
  {
   "cell_type": "code",
   "execution_count": 39,
   "id": "cd8aee52",
   "metadata": {},
   "outputs": [
    {
     "name": "stdout",
     "output_type": "stream",
     "text": [
      "C class method is called\n"
     ]
    }
   ],
   "source": [
    "C.method1(d)"
   ]
  }
 ],
 "metadata": {
  "kernelspec": {
   "display_name": "Python 3",
   "language": "python",
   "name": "python3"
  },
  "language_info": {
   "codemirror_mode": {
    "name": "ipython",
    "version": 3
   },
   "file_extension": ".py",
   "mimetype": "text/x-python",
   "name": "python",
   "nbconvert_exporter": "python",
   "pygments_lexer": "ipython3",
   "version": "3.8.8"
  }
 },
 "nbformat": 4,
 "nbformat_minor": 5
}
